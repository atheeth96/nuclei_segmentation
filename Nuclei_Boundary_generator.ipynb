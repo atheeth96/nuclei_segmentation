{
 "cells": [
  {
   "cell_type": "code",
   "execution_count": 2,
   "metadata": {},
   "outputs": [],
   "source": [
    "\n",
    "import datetime\n",
    "from zipfile import ZipFile\n",
    "import math\n",
    "import time\n",
    "from skimage import morphology\n",
    "\n",
    "from extractor_class.patch_extractor import PatchExtractor\n",
    "from skimage.filters import threshold_otsu\n",
    "\n",
    "import skimage\n",
    "from skimage.io import imread,imsave\n",
    "import matplotlib.pyplot as plt\n",
    "import numpy as np\n",
    "from tqdm import tqdm_notebook as tqdm \n",
    "\n",
    "# from callbacks_class.callbacks_dapi import CosineWithRestart\n",
    "# from Models.Models import attn_unet\n",
    "import os, shutil\n",
    "from preprocess import generate_train_mask\n"
   ]
  },
  {
   "cell_type": "code",
   "execution_count": 3,
   "metadata": {},
   "outputs": [
    {
     "data": {
      "application/vnd.jupyter.widget-view+json": {
       "model_id": "10b7c53e0099419282cd289304aaebec",
       "version_major": 2,
       "version_minor": 0
      },
      "text/plain": [
       "HBox(children=(IntProgress(value=0, max=23), HTML(value='')))"
      ]
     },
     "metadata": {},
     "output_type": "display_data"
    },
    {
     "name": "stdout",
     "output_type": "stream",
     "text": [
      "\n"
     ]
    },
    {
     "data": {
      "application/vnd.jupyter.widget-view+json": {
       "model_id": "3df5ba81916a40519f152cf4f0fddfe7",
       "version_major": 2,
       "version_minor": 0
      },
      "text/plain": [
       "HBox(children=(IntProgress(value=0, max=30), HTML(value='')))"
      ]
     },
     "metadata": {},
     "output_type": "display_data"
    },
    {
     "name": "stdout",
     "output_type": "stream",
     "text": [
      "\n"
     ]
    }
   ],
   "source": [
<<<<<<< HEAD
    "\n",
=======
    "# def generate_train_mask(patient_id,path2patient):\n",
    "#     path=os.path.join(path2patient,patient_id)+'/nuc_mask'\n",
    "#     if not os.path.exists(path):\n",
    "#         os.mkdir(path)\n",
    "#     path_bound=os.path.join(path2patient,patient_id)+'/bound_mask'\n",
    "#     if not os.path.exists(path_bound):\n",
    "#         os.mkdir(path_bound)\n",
    "    \n",
    "    \n",
    "#     n_array_list=os.listdir(os.path.join(path2patient,patient_id)+'/NucSeg')\n",
    "#     #print(n_array_list)\n",
    "#     for n_array in tqdm(n_array_list):\n",
    "#         img=imread(path2patient+'/'+patient_id+'/NucSeg/'+n_array)\n",
    "       \n",
    "#         final_img=np.zeros(img.shape,dtype=np.uint8)\n",
    "#         for i,nuclei in enumerate(range(1,np.amax(img))):\n",
    "#             img_cancer=np.zeros(img.shape,dtype=np.uint8)\n",
    "#             img_cancer[np.where(img==nuclei)]=255\n",
    "#             #print(np.where(img_temp==255))\n",
    "\n",
    "#             contours=skimage.measure.find_contours(img_cancer,0)[0]\n",
    "            \n",
    "            \n",
    "        \n",
    "            \n",
    "#             img_temp=np.zeros(img.shape,dtype=np.uint8)\n",
    "#             for countour in contours:\n",
    "#                 x,y=countour\n",
    "                \n",
    "#                 img_temp[int(x),int(y)]=255\n",
    "            \n",
    "#             final_img+=img_temp\n",
    "                \n",
    "#         final_img=morphology.dilation(final_img, selem=None)\n",
    "#         final_img=final_img.astype(np.uint8)\n",
    "#         imsave(path_bound+'/'+n_array.split('_')[-1],final_img)\n",
    "        \n",
    "        \n",
    "                \n",
    "                \n",
    "            \n",
    "#         img[np.where(img!=0)]=255\n",
    "#         img=img.astype(np.uint8)\n",
    "#         imsave(path+'/'+n_array.split('_')[-1],img)\n",
    "        \n",
    "\n",
    "# patient_list=os.listdir('Dapi_patient_data')\n",
    "# patient_list=[x for x in patient_list if '.DS_Store' not in x]\n",
    "# print(patient_list)\n",
>>>>>>> d647ffaee8a2ff8a96d5b0660ee8054652d245e2
    "patient_list=['S-190413-00146','S-190413-00110']\n",
    "for patient in patient_list:\n",
    "    generate_train_mask(patient,'Dapi_patient_data')\n",
    "    "
   ]
  },
  {
   "cell_type": "code",
   "execution_count": null,
   "metadata": {},
   "outputs": [],
   "source": []
  }
 ],
 "metadata": {
  "kernelspec": {
   "display_name": "Python 3",
   "language": "python",
   "name": "python3"
  },
  "language_info": {
   "codemirror_mode": {
    "name": "ipython",
    "version": 3
   },
   "file_extension": ".py",
   "mimetype": "text/x-python",
   "name": "python",
   "nbconvert_exporter": "python",
   "pygments_lexer": "ipython3",
   "version": "3.6.7"
  }
 },
 "nbformat": 4,
 "nbformat_minor": 2
}
